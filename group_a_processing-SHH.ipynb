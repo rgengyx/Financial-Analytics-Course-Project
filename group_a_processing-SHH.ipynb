{
 "cells": [
  {
   "cell_type": "code",
   "execution_count": 1,
   "metadata": {},
   "outputs": [],
   "source": [
    "data = !ls data/group_a/SHH*.csv"
   ]
  },
  {
   "cell_type": "code",
   "execution_count": 2,
   "metadata": {},
   "outputs": [
    {
     "data": {
      "text/plain": [
       "['data/group_a/SHH201409.csv',\n",
       " 'data/group_a/SHH201410.csv',\n",
       " 'data/group_a/SHH201411.csv',\n",
       " 'data/group_a/SHH201412.csv',\n",
       " 'data/group_a/SHH201501.csv']"
      ]
     },
     "execution_count": 2,
     "metadata": {},
     "output_type": "execute_result"
    }
   ],
   "source": [
    "data"
   ]
  },
  {
   "cell_type": "markdown",
   "metadata": {},
   "source": [
    "# Treatment vs Control"
   ]
  },
  {
   "cell_type": "code",
   "execution_count": 3,
   "metadata": {},
   "outputs": [],
   "source": [
    "import pandas as pd"
   ]
  },
  {
   "cell_type": "code",
   "execution_count": 4,
   "metadata": {},
   "outputs": [],
   "source": [
    "# Treatment vs Control\n",
    "treatment = pd.read_excel(\"treatment/treatment_groupSH.xlsx\")"
   ]
  },
  {
   "cell_type": "code",
   "execution_count": 5,
   "metadata": {},
   "outputs": [],
   "source": [
    "treatment_code = treatment['code'].tolist()"
   ]
  },
  {
   "cell_type": "markdown",
   "metadata": {},
   "source": [
    "# Processing"
   ]
  },
  {
   "cell_type": "code",
   "execution_count": 6,
   "metadata": {},
   "outputs": [],
   "source": [
    "df = pd.DataFrame(columns=pd.read_csv(data[0], nrows=1).columns.tolist())"
   ]
  },
  {
   "cell_type": "code",
   "execution_count": 7,
   "metadata": {},
   "outputs": [],
   "source": [
    "for i in range(len(data)):\n",
    "    df_next = pd.read_csv(data[i])\n",
    "    df_next = df_next.dropna()\n",
    "    df_next = df_next[(df_next != 0).all(1)]\n",
    "    df = df.append(df_next, ignore_index=True)"
   ]
  },
  {
   "cell_type": "code",
   "execution_count": 8,
   "metadata": {},
   "outputs": [],
   "source": [
    "df = df.dropna()"
   ]
  },
  {
   "cell_type": "code",
   "execution_count": 9,
   "metadata": {},
   "outputs": [],
   "source": [
    "# Shanghai only\n",
    "df = df[df['stock'].str.contains(\"SS\")]\n",
    "df = df[~df['stock'].str.contains(\"A\")]\n",
    "df = df[~df['stock'].str.contains(\"z\")]"
   ]
  },
  {
   "cell_type": "code",
   "execution_count": 10,
   "metadata": {
    "scrolled": false
   },
   "outputs": [],
   "source": [
    "df['treatdum'] = df['stock'].apply(lambda x: 1 if int(x[:-3]) in treatment_code else 0)"
   ]
  },
  {
   "cell_type": "code",
   "execution_count": 11,
   "metadata": {},
   "outputs": [],
   "source": [
    "df['date'] = pd.to_datetime(df['date'])"
   ]
  },
  {
   "cell_type": "code",
   "execution_count": 12,
   "metadata": {},
   "outputs": [
    {
     "name": "stderr",
     "output_type": "stream",
     "text": [
      "<ipython-input-12-0f47a2e734f0>:1: FutureWarning: The pandas.datetime class is deprecated and will be removed from pandas in a future version. Import from datetime module instead.\n",
      "  df.loc[df['date']<=pd.datetime(2014,11,17), 'perioddum'] = 0\n",
      "<ipython-input-12-0f47a2e734f0>:2: FutureWarning: The pandas.datetime class is deprecated and will be removed from pandas in a future version. Import from datetime module instead.\n",
      "  df.loc[df['date']>pd.datetime(2014,11,17), 'perioddum'] = 1\n"
     ]
    }
   ],
   "source": [
    "df.loc[df['date']<=pd.datetime(2014,11,17), 'perioddum'] = 0\n",
    "df.loc[df['date']>pd.datetime(2014,11,17), 'perioddum'] = 1\n",
    "df['did_dum'] = df['perioddum']*df['treatdum']"
   ]
  },
  {
   "cell_type": "code",
   "execution_count": 13,
   "metadata": {},
   "outputs": [],
   "source": [
    "df['quote2trade'] = df['quote_count'] / df['trade_count']"
   ]
  },
  {
   "cell_type": "markdown",
   "metadata": {},
   "source": [
    "# Processing"
   ]
  },
  {
   "cell_type": "code",
   "execution_count": 14,
   "metadata": {},
   "outputs": [],
   "source": [
    "df_treatment = df[df['treatdum'] == 1]\n",
    "df_control = df[df['treatdum'] == 0]"
   ]
  },
  {
   "cell_type": "code",
   "execution_count": 15,
   "metadata": {},
   "outputs": [],
   "source": [
    "df_control = df_control[df_control[\"quote2trade\"] <= 2]"
   ]
  },
  {
   "cell_type": "code",
   "execution_count": 16,
   "metadata": {
    "scrolled": true
   },
   "outputs": [],
   "source": [
    "df_treatment_mean = df_treatment.groupby(\"date\").mean().reset_index()\n",
    "df_control_mean = df_control.groupby(\"date\").mean().reset_index()"
   ]
  },
  {
   "cell_type": "markdown",
   "metadata": {},
   "source": [
    "# Visualization"
   ]
  },
  {
   "cell_type": "code",
   "execution_count": 19,
   "metadata": {},
   "outputs": [
    {
     "data": {
      "text/html": [
       "<iframe style=\"border:0;outline:none;overflow:hidden\" srcdoc=\"&lt;!DOCTYPE html&gt; &lt;html lang=&quot;en&quot;&gt; &lt;head&gt; &lt;meta charset=&quot;utf-8&quot; /&gt; &lt;link href=&quot;https://www.highcharts.com/highslide/highslide.css&quot; rel=&quot;stylesheet&quot; /&gt; &lt;script type=&quot;text/javascript&quot; src=&quot;https://ajax.googleapis.com/ajax/libs/jquery/1.9.1/jquery.min.js&quot;&gt;&lt;/script&gt; &lt;script type=&quot;text/javascript&quot; src=&quot;https://code.highcharts.com/stock/6/highstock.js&quot;&gt;&lt;/script&gt; &lt;script type=&quot;text/javascript&quot; src=&quot;https://code.highcharts.com/stock/6/modules/exporting.js&quot;&gt;&lt;/script&gt; &lt;script type=&quot;text/javascript&quot; src=&quot;https://code.highcharts.com/6/highcharts-more.js&quot;&gt;&lt;/script&gt; &lt;/head&gt; &lt;body style=&quot;margin:0;padding:0&quot;&gt; &lt;div id=&quot;container&quot; style=&quot;&quot;&gt;Loading....&lt;/div&gt; &lt;script&gt; $(function(){ Highcharts.setOptions({&quot;global&quot;: {}, &quot;lang&quot;: {}}); var option = {&quot;chart&quot;: {&quot;renderTo&quot;: &quot;container&quot;, &quot;zoomType&quot;: &quot;x&quot;}, &quot;colors&quot;: {}, &quot;credits&quot;: {&quot;enabled&quot;: false}, &quot;exporting&quot;: {}, &quot;labels&quot;: {}, &quot;legend&quot;: {&quot;enabled&quot;: true, &quot;itemStyle&quot;: {&quot;fontWeight&quot;: &quot;normal&quot;}}, &quot;loading&quot;: {}, &quot;navigation&quot;: {}, &quot;navigator&quot;: {&quot;enabled&quot;: false}, &quot;plotOptions&quot;: {}, &quot;rangeSelector&quot;: {&quot;enabled&quot;: false}, &quot;scrollbar&quot;: {}, &quot;series&quot;: {}, &quot;subtitle&quot;: {}, &quot;title&quot;: {&quot;text&quot;: &quot;SHH Treatment vs Control: Trade Value&quot;}, &quot;tooltip&quot;: {}, &quot;xAxis&quot;: {&quot;plotLines&quot;: [{&quot;color&quot;: &quot;#c8c8c8&quot;, &quot;width&quot;: 1, &quot;value&quot;: 1416182400000.0, &quot;zIndex&quot;: 1, &quot;label&quot;: {&quot;text&quot;: &quot;Stock Connect&quot;, &quot;style&quot;: {&quot;color&quot;: &quot;grey&quot;}, &quot;rotation&quot;: 90, &quot;align&quot;: &quot;center&quot;, &quot;x&quot;: 3, &quot;y&quot;: 50}}]}, &quot;yAxis&quot;: [{&quot;opposite&quot;: false, &quot;title&quot;: {&quot;text&quot;: &quot;Trade Value&quot;}, &quot;tickAmount&quot;: 8}]}; var chart = new Highcharts.StockChart(option); var data = [{&quot;data&quot;: [[Date.UTC(2014,8,1,0,0,0,0.0), 163543441.52353266], [Date.UTC(2014,8,2,0,0,0,0.0), 240107199.76873344], [Date.UTC(2014,8,3,0,0,0,0.0), 264380628.08512098], [Date.UTC(2014,8,4,0,0,0,0.0), 249611277.0347003], [Date.UTC(2014,8,5,0,0,0,0.0), 258159272.29517648], [Date.UTC(2014,8,9,0,0,0,0.0), 240380812.2593111], [Date.UTC(2014,8,10,0,0,0,0.0), 220825074.4266976], [Date.UTC(2014,8,11,0,0,0,0.0), 273268161.3590481], [Date.UTC(2014,8,12,0,0,0,0.0), 217952111.262212], [Date.UTC(2014,8,15,0,0,0,0.0), 253365500.57273248], [Date.UTC(2014,8,16,0,0,0,0.0), 331683700.24327797], [Date.UTC(2014,8,17,0,0,0,0.0), 217845292.9223847], [Date.UTC(2014,8,18,0,0,0,0.0), 201118277.49216676], [Date.UTC(2014,8,19,0,0,0,0.0), 201148332.27661726], [Date.UTC(2014,8,22,0,0,0,0.0), 205644532.34077066], [Date.UTC(2014,8,23,0,0,0,0.0), 183643901.77818388], [Date.UTC(2014,8,24,0,0,0,0.0), 262493060.61173174], [Date.UTC(2014,8,25,0,0,0,0.0), 263561518.46562386], [Date.UTC(2014,8,26,0,0,0,0.0), 204197600.613862], [Date.UTC(2014,8,29,0,0,0,0.0), 237476235.9067355], [Date.UTC(2014,8,30,0,0,0,0.0), 230031421.32928845], [Date.UTC(2014,9,8,0,0,0,0.0), 250993016.62223035], [Date.UTC(2014,9,9,0,0,0,0.0), 280237964.5412312], [Date.UTC(2014,9,10,0,0,0,0.0), 268116973.18652338], [Date.UTC(2014,9,13,0,0,0,0.0), 248437012.72447377], [Date.UTC(2014,9,14,0,0,0,0.0), 237915908.52591756], [Date.UTC(2014,9,15,0,0,0,0.0), 246086113.1747291], [Date.UTC(2014,9,16,0,0,0,0.0), 289291326.0965357], [Date.UTC(2014,9,17,0,0,0,0.0), 242393338.89732206], [Date.UTC(2014,9,20,0,0,0,0.0), 189215049.12829593], [Date.UTC(2014,9,21,0,0,0,0.0), 198795404.73915896], [Date.UTC(2014,9,22,0,0,0,0.0), 188354567.33973792], [Date.UTC(2014,9,23,0,0,0,0.0), 195956569.28604132], [Date.UTC(2014,9,24,0,0,0,0.0), 152603705.85150096], [Date.UTC(2014,9,27,0,0,0,0.0), 154070991.7393219], [Date.UTC(2014,9,28,0,0,0,0.0), 220120531.23600373], [Date.UTC(2014,9,29,0,0,0,0.0), 319189754.9099811], [Date.UTC(2014,9,30,0,0,0,0.0), 327364622.1382266], [Date.UTC(2014,9,31,0,0,0,0.0), 373455587.3201878], [Date.UTC(2014,10,3,0,0,0,0.0), 332149491.6459777], [Date.UTC(2014,10,4,0,0,0,0.0), 338533091.9124104], [Date.UTC(2014,10,5,0,0,0,0.0), 292984313.2026365], [Date.UTC(2014,10,6,0,0,0,0.0), 253254831.8809193], [Date.UTC(2014,10,7,0,0,0,0.0), 358383116.84692305], [Date.UTC(2014,10,10,0,0,0,0.0), 371209493.90530145], [Date.UTC(2014,10,11,0,0,0,0.0), 520090177.7959319], [Date.UTC(2014,10,12,0,0,0,0.0), 318972532.89395505], [Date.UTC(2014,10,13,0,0,0,0.0), 389212830.93679255], [Date.UTC(2014,10,14,0,0,0,0.0), 286671498.4520228], [Date.UTC(2014,10,17,0,0,0,0.0), 300072393.8327135], [Date.UTC(2014,10,18,0,0,0,0.0), 260314352.8323529], [Date.UTC(2014,10,19,0,0,0,0.0), 245784951.64660957], [Date.UTC(2014,10,20,0,0,0,0.0), 219754120.37213048], [Date.UTC(2014,10,21,0,0,0,0.0), 297100937.05074733], [Date.UTC(2014,10,24,0,0,0,0.0), 516956542.709313], [Date.UTC(2014,10,25,0,0,0,0.0), 427586223.03203845], [Date.UTC(2014,10,26,0,0,0,0.0), 490599036.2913096], [Date.UTC(2014,10,27,0,0,0,0.0), 526223311.8848004], [Date.UTC(2014,10,28,0,0,0,0.0), 630075466.8653299], [Date.UTC(2014,11,1,0,0,0,0.0), 637009810.6448487], [Date.UTC(2014,11,2,0,0,0,0.0), 633703758.0842074], [Date.UTC(2014,11,3,0,0,0,0.0), 849473158.2119244], [Date.UTC(2014,11,4,0,0,0,0.0), 815797633.2199048], [Date.UTC(2014,11,5,0,0,0,0.0), 1029038080.3034644], [Date.UTC(2014,11,8,0,0,0,0.0), 959634798.6551794], [Date.UTC(2014,11,9,0,0,0,0.0), 1293108034.382442], [Date.UTC(2014,11,10,0,0,0,0.0), 871286179.7757705], [Date.UTC(2014,11,11,0,0,0,0.0), 754422795.800188], [Date.UTC(2014,11,12,0,0,0,0.0), 651244236.0318955], [Date.UTC(2014,11,15,0,0,0,0.0), 636329535.9145507], [Date.UTC(2014,11,16,0,0,0,0.0), 787687650.8595141], [Date.UTC(2014,11,17,0,0,0,0.0), 942872474.8719991], [Date.UTC(2014,11,18,0,0,0,0.0), 757152155.5239143], [Date.UTC(2014,11,19,0,0,0,0.0), 831495306.5007257], [Date.UTC(2014,11,22,0,0,0,0.0), 1013626664.8556982], [Date.UTC(2014,11,23,0,0,0,0.0), 682614003.9621272], [Date.UTC(2014,11,24,0,0,0,0.0), 613525511.8969141], [Date.UTC(2014,11,25,0,0,0,0.0), 605082328.5682228], [Date.UTC(2014,11,26,0,0,0,0.0), 791277925.1659994], [Date.UTC(2014,11,29,0,0,0,0.0), 909615219.8753915], [Date.UTC(2014,11,30,0,0,0,0.0), 709034083.3638119], [Date.UTC(2014,11,31,0,0,0,0.0), 704383606.5894824], [Date.UTC(2015,0,5,0,0,0,0.0), 903774863.3686873], [Date.UTC(2015,0,6,0,0,0,0.0), 873487426.2532421], [Date.UTC(2015,0,7,0,0,0,0.0), 705503056.4653133], [Date.UTC(2015,0,8,0,0,0,0.0), 637156869.232025], [Date.UTC(2015,0,9,0,0,0,0.0), 751734589.5577122], [Date.UTC(2015,0,12,0,0,0,0.0), 587244645.3370184], [Date.UTC(2015,0,13,0,0,0,0.0), 434272015.91335183], [Date.UTC(2015,0,14,0,0,0,0.0), 424436671.35195565], [Date.UTC(2015,0,15,0,0,0,0.0), 534311374.0090408], [Date.UTC(2015,0,16,0,0,0,0.0), 635958163.3460958], [Date.UTC(2015,0,19,0,0,0,0.0), 646426692.9773489], [Date.UTC(2015,0,20,0,0,0,0.0), 659676108.6841536], [Date.UTC(2015,0,21,0,0,0,0.0), 755425544.7638006], [Date.UTC(2015,0,22,0,0,0,0.0), 637940699.4265054], [Date.UTC(2015,0,23,0,0,0,0.0), 656342198.137205], [Date.UTC(2015,0,26,0,0,0,0.0), 551631480.3293475], [Date.UTC(2015,0,27,0,0,0,0.0), 656081568.2111934], [Date.UTC(2015,0,28,0,0,0,0.0), 533873967.66822076], [Date.UTC(2015,0,29,0,0,0,0.0), 457629069.88866186], [Date.UTC(2015,0,30,0,0,0,0.0), 441886102.1668463]], &quot;type&quot;: &quot;line&quot;, &quot;yAxis&quot;: 0, &quot;name&quot;: &quot;treatment&quot;}, {&quot;data&quot;: [[Date.UTC(2014,8,1,0,0,0,0.0), 117600257.42795539], [Date.UTC(2014,8,2,0,0,0,0.0), 145752834.18904305], [Date.UTC(2014,8,3,0,0,0,0.0), 148406076.21046034], [Date.UTC(2014,8,4,0,0,0,0.0), 149394216.43817455], [Date.UTC(2014,8,5,0,0,0,0.0), 151310214.16877732], [Date.UTC(2014,8,9,0,0,0,0.0), 143698126.98939928], [Date.UTC(2014,8,10,0,0,0,0.0), 149080321.42540744], [Date.UTC(2014,8,11,0,0,0,0.0), 172778603.74842876], [Date.UTC(2014,8,12,0,0,0,0.0), 153377872.93801185], [Date.UTC(2014,8,15,0,0,0,0.0), 149305114.55247167], [Date.UTC(2014,8,16,0,0,0,0.0), 178917565.68075526], [Date.UTC(2014,8,17,0,0,0,0.0), 144593726.47331262], [Date.UTC(2014,8,18,0,0,0,0.0), 146633435.3827591], [Date.UTC(2014,8,19,0,0,0,0.0), 130428027.68754673], [Date.UTC(2014,8,22,0,0,0,0.0), 143714106.44342333], [Date.UTC(2014,8,23,0,0,0,0.0), 139101843.8569299], [Date.UTC(2014,8,24,0,0,0,0.0), 159459935.44836718], [Date.UTC(2014,8,25,0,0,0,0.0), 157922581.22210163], [Date.UTC(2014,8,26,0,0,0,0.0), 131073198.68548799], [Date.UTC(2014,8,29,0,0,0,0.0), 145087946.96014902], [Date.UTC(2014,8,30,0,0,0,0.0), 132700229.49148741], [Date.UTC(2014,9,8,0,0,0,0.0), 129635113.71503787], [Date.UTC(2014,9,9,0,0,0,0.0), 140927439.32445884], [Date.UTC(2014,9,10,0,0,0,0.0), 139319438.48166195], [Date.UTC(2014,9,13,0,0,0,0.0), 132017352.07421355], [Date.UTC(2014,9,14,0,0,0,0.0), 130365682.31840445], [Date.UTC(2014,9,15,0,0,0,0.0), 134967504.79625824], [Date.UTC(2014,9,16,0,0,0,0.0), 149813057.24567574], [Date.UTC(2014,9,17,0,0,0,0.0), 147238600.01353532], [Date.UTC(2014,9,20,0,0,0,0.0), 120777414.2376747], [Date.UTC(2014,9,21,0,0,0,0.0), 136915941.03616032], [Date.UTC(2014,9,22,0,0,0,0.0), 124832067.2226291], [Date.UTC(2014,9,23,0,0,0,0.0), 121998212.36217926], [Date.UTC(2014,9,24,0,0,0,0.0), 109318101.53990495], [Date.UTC(2014,9,27,0,0,0,0.0), 102095728.26025487], [Date.UTC(2014,9,28,0,0,0,0.0), 131089886.57481591], [Date.UTC(2014,9,29,0,0,0,0.0), 170244282.53810364], [Date.UTC(2014,9,30,0,0,0,0.0), 156595225.97930256], [Date.UTC(2014,9,31,0,0,0,0.0), 165733433.94388142], [Date.UTC(2014,10,3,0,0,0,0.0), 143757849.30791408], [Date.UTC(2014,10,4,0,0,0,0.0), 141454941.20575023], [Date.UTC(2014,10,5,0,0,0,0.0), 142552108.0898426], [Date.UTC(2014,10,6,0,0,0,0.0), 136608065.14027905], [Date.UTC(2014,10,7,0,0,0,0.0), 151457326.13208848], [Date.UTC(2014,10,10,0,0,0,0.0), 137511328.2708732], [Date.UTC(2014,10,11,0,0,0,0.0), 170163952.88267013], [Date.UTC(2014,10,12,0,0,0,0.0), 147519154.84915462], [Date.UTC(2014,10,13,0,0,0,0.0), 150752988.51395765], [Date.UTC(2014,10,14,0,0,0,0.0), 121522581.21931452], [Date.UTC(2014,10,17,0,0,0,0.0), 125136662.21787173], [Date.UTC(2014,10,18,0,0,0,0.0), 121840328.69129646], [Date.UTC(2014,10,19,0,0,0,0.0), 131752653.39510427], [Date.UTC(2014,10,20,0,0,0,0.0), 131155441.68308781], [Date.UTC(2014,10,21,0,0,0,0.0), 128882995.27136478], [Date.UTC(2014,10,24,0,0,0,0.0), 153493479.43584234], [Date.UTC(2014,10,25,0,0,0,0.0), 155776543.2334128], [Date.UTC(2014,10,26,0,0,0,0.0), 153080611.2694098], [Date.UTC(2014,10,27,0,0,0,0.0), 189725520.40945888], [Date.UTC(2014,10,28,0,0,0,0.0), 196190586.36148039], [Date.UTC(2014,11,1,0,0,0,0.0), 171530001.8681372], [Date.UTC(2014,11,2,0,0,0,0.0), 177970565.23421556], [Date.UTC(2014,11,3,0,0,0,0.0), 230164379.81385], [Date.UTC(2014,11,4,0,0,0,0.0), 218947740.389267], [Date.UTC(2014,11,5,0,0,0,0.0), 250283598.61197677], [Date.UTC(2014,11,8,0,0,0,0.0), 229414676.4292101], [Date.UTC(2014,11,9,0,0,0,0.0), 273444729.12864846], [Date.UTC(2014,11,10,0,0,0,0.0), 205446737.9865045], [Date.UTC(2014,11,11,0,0,0,0.0), 213936068.51049295], [Date.UTC(2014,11,12,0,0,0,0.0), 202578412.79680765], [Date.UTC(2014,11,15,0,0,0,0.0), 204555521.7056997], [Date.UTC(2014,11,16,0,0,0,0.0), 207087638.9956817], [Date.UTC(2014,11,17,0,0,0,0.0), 214129567.13899425], [Date.UTC(2014,11,18,0,0,0,0.0), 168267175.5733325], [Date.UTC(2014,11,19,0,0,0,0.0), 190839015.08306006], [Date.UTC(2014,11,22,0,0,0,0.0), 221975391.7342214], [Date.UTC(2014,11,23,0,0,0,0.0), 195521191.4132255], [Date.UTC(2014,11,24,0,0,0,0.0), 221285924.69627038], [Date.UTC(2014,11,25,0,0,0,0.0), 219619469.7406923], [Date.UTC(2014,11,26,0,0,0,0.0), 254205660.4674632], [Date.UTC(2014,11,29,0,0,0,0.0), 254603496.7980259], [Date.UTC(2014,11,30,0,0,0,0.0), 212615572.31924585], [Date.UTC(2014,11,31,0,0,0,0.0), 175229093.10174084], [Date.UTC(2015,0,5,0,0,0,0.0), 168440673.00441313], [Date.UTC(2015,0,6,0,0,0,0.0), 146906761.0414362], [Date.UTC(2015,0,7,0,0,0,0.0), 138200330.09988737], [Date.UTC(2015,0,8,0,0,0,0.0), 134701368.79260603], [Date.UTC(2015,0,9,0,0,0,0.0), 136408324.9281056], [Date.UTC(2015,0,12,0,0,0,0.0), 130289200.67112814], [Date.UTC(2015,0,13,0,0,0,0.0), 103843397.64906786], [Date.UTC(2015,0,14,0,0,0,0.0), 100857977.38421538], [Date.UTC(2015,0,15,0,0,0,0.0), 108076695.95133667], [Date.UTC(2015,0,16,0,0,0,0.0), 121432700.96342924], [Date.UTC(2015,0,19,0,0,0,0.0), 138830008.52825817], [Date.UTC(2015,0,20,0,0,0,0.0), 146183650.89145336], [Date.UTC(2015,0,21,0,0,0,0.0), 177293534.11920962], [Date.UTC(2015,0,22,0,0,0,0.0), 166679441.72428846], [Date.UTC(2015,0,23,0,0,0,0.0), 177826035.33380157], [Date.UTC(2015,0,26,0,0,0,0.0), 156155832.98707035], [Date.UTC(2015,0,27,0,0,0,0.0), 178805781.0336418], [Date.UTC(2015,0,28,0,0,0,0.0), 155369316.7490186], [Date.UTC(2015,0,29,0,0,0,0.0), 128043399.29490489], [Date.UTC(2015,0,30,0,0,0,0.0), 136248145.79542717]], &quot;type&quot;: &quot;line&quot;, &quot;yAxis&quot;: 0, &quot;name&quot;: &quot;control&quot;}]; var dataLen = data.length; for (var ix = 0; ix &lt; dataLen; ix++) { chart.addSeries(data[ix]); } }); &lt;/script&gt; &lt;/body&gt; &lt;/html&gt;\" height=520 width=820></iframe>"
      ],
      "text/plain": [
       "<highcharts.highstock.highstock.Highstock at 0x7f8439764730>"
      ]
     },
     "execution_count": 19,
     "metadata": {},
     "output_type": "execute_result"
    }
   ],
   "source": [
    "import pandas as pd\n",
    "from highcharts import Highchart, Highstock\n",
    "import csv\n",
    "import datetime\n",
    "\n",
    "OPTIONS_DEFAULT = {\n",
    "                  'chart': {'zoomType': 'x'},\n",
    "                  'navigator': {'enabled': False},\n",
    "                  'rangeSelector': {'enabled': False},\n",
    "                  'legend': {'enabled': True,\n",
    "                             'itemStyle':{'fontWeight':'normal'}},\n",
    "                  'title': {\"text\":\"SHH Treatment vs Control: Trade Value\"}\n",
    "                    }\n",
    "\n",
    "options_line = OPTIONS_DEFAULT\n",
    "options_line['yAxis'] = [{'opposite': False, 'title':{'text': 'Trade Value'},'tickAmount':8 }]\n",
    "\n",
    "Line_Chart = Highstock()\n",
    "\n",
    "def plotline(date, text):\n",
    "    line = {\n",
    "                'color': '#c8c8c8',\n",
    "                'width': 1,\n",
    "                'value': ((date -  datetime.datetime.utcfromtimestamp(0)).total_seconds() * 1000.0), \n",
    "                'zIndex': 1,\n",
    "                'label': {'text': text,\n",
    "                            'style': {\n",
    "                            'color': 'grey'},\n",
    "                            'rotation': 90,\n",
    "                            'align': 'center',\n",
    "                            'x': 3,\n",
    "                            'y': 50}\n",
    "            }\n",
    "    return line\n",
    "\n",
    "event_dict = {'2014-11-17': 'Stock Connect'}\n",
    "\n",
    "for date in event_dict:\n",
    "    date_object = datetime.datetime.strptime(date, '%Y-%m-%d')\n",
    "    line = plotline(date_object, event_dict[date])\n",
    "    try:\n",
    "        options_line['xAxis']['plotLines'].append(line)\n",
    "    except KeyError:\n",
    "        options_line['xAxis']={'plotLines': [line]}\n",
    "\n",
    "Line_Chart.set_dict_options(options_line)\n",
    "\n",
    "Line_Chart.add_data_set(df_treatment_mean.filter(['date','trade_value']).values.tolist(), name='treatment', yAxis=0)\n",
    "Line_Chart.add_data_set(df_control_mean.filter(['date','trade_value']).values.tolist(), name='control', yAxis=0)\n",
    "\n",
    "Line_Chart"
   ]
  },
  {
   "cell_type": "markdown",
   "metadata": {},
   "source": [
    "# DID"
   ]
  },
  {
   "cell_type": "code",
   "execution_count": 59,
   "metadata": {},
   "outputs": [
    {
     "name": "stderr",
     "output_type": "stream",
     "text": [
      "<ipython-input-59-3051c18f260a>:4: FutureWarning: The pandas.datetime class is deprecated and will be removed from pandas in a future version. Import from datetime module instead.\n",
      "  df.loc[df['date-time']<=pd.datetime(2014,11,17), 'perioddum'] = 0\n",
      "<ipython-input-59-3051c18f260a>:5: FutureWarning: The pandas.datetime class is deprecated and will be removed from pandas in a future version. Import from datetime module instead.\n",
      "  df.loc[df['date-time']>pd.datetime(2014,11,17), 'perioddum'] = 1\n"
     ]
    },
    {
     "ename": "ValueError",
     "evalue": "Series can only be used with a 2-level MultiIndex",
     "output_type": "error",
     "traceback": [
      "\u001b[0;31m---------------------------------------------------------------------------\u001b[0m",
      "\u001b[0;31mValueError\u001b[0m                                Traceback (most recent call last)",
      "\u001b[0;32m<ipython-input-59-3051c18f260a>\u001b[0m in \u001b[0;36m<module>\u001b[0;34m\u001b[0m\n\u001b[1;32m     13\u001b[0m \u001b[0my_variable\u001b[0m \u001b[0;34m=\u001b[0m \u001b[0;34m'trade_volume'\u001b[0m\u001b[0;34m\u001b[0m\u001b[0;34m\u001b[0m\u001b[0m\n\u001b[1;32m     14\u001b[0m \u001b[0;34m\u001b[0m\u001b[0m\n\u001b[0;32m---> 15\u001b[0;31m \u001b[0mregression\u001b[0m\u001b[0;34m=\u001b[0m\u001b[0mPanelOLS\u001b[0m\u001b[0;34m(\u001b[0m\u001b[0mdf\u001b[0m\u001b[0;34m[\u001b[0m\u001b[0my_variable\u001b[0m\u001b[0;34m]\u001b[0m\u001b[0;34m,\u001b[0m \u001b[0mdf\u001b[0m\u001b[0;34m[\u001b[0m\u001b[0mx_variables\u001b[0m\u001b[0;34m]\u001b[0m\u001b[0;34m,\u001b[0m \u001b[0mentity_effects\u001b[0m\u001b[0;34m=\u001b[0m\u001b[0;32mTrue\u001b[0m\u001b[0;34m,\u001b[0m \u001b[0mdrop_absorbed\u001b[0m\u001b[0;34m=\u001b[0m\u001b[0;32mTrue\u001b[0m\u001b[0;34m)\u001b[0m\u001b[0;34m\u001b[0m\u001b[0;34m\u001b[0m\u001b[0m\n\u001b[0m\u001b[1;32m     16\u001b[0m \u001b[0mregression\u001b[0m\u001b[0;34m.\u001b[0m\u001b[0mfit\u001b[0m\u001b[0;34m(\u001b[0m\u001b[0;34m)\u001b[0m\u001b[0;34m\u001b[0m\u001b[0;34m\u001b[0m\u001b[0m\n",
      "\u001b[0;32m~/Software/anaconda3/lib/python3.8/site-packages/linearmodels/panel/model.py\u001b[0m in \u001b[0;36m__init__\u001b[0;34m(self, dependent, exog, weights, entity_effects, time_effects, other_effects, singletons, drop_absorbed)\u001b[0m\n\u001b[1;32m   1038\u001b[0m         \u001b[0mdrop_absorbed\u001b[0m\u001b[0;34m:\u001b[0m \u001b[0mbool\u001b[0m \u001b[0;34m=\u001b[0m \u001b[0;32mFalse\u001b[0m\u001b[0;34m,\u001b[0m\u001b[0;34m\u001b[0m\u001b[0;34m\u001b[0m\u001b[0m\n\u001b[1;32m   1039\u001b[0m     ) -> None:\n\u001b[0;32m-> 1040\u001b[0;31m         \u001b[0msuper\u001b[0m\u001b[0;34m(\u001b[0m\u001b[0mPanelOLS\u001b[0m\u001b[0;34m,\u001b[0m \u001b[0mself\u001b[0m\u001b[0;34m)\u001b[0m\u001b[0;34m.\u001b[0m\u001b[0m__init__\u001b[0m\u001b[0;34m(\u001b[0m\u001b[0mdependent\u001b[0m\u001b[0;34m,\u001b[0m \u001b[0mexog\u001b[0m\u001b[0;34m,\u001b[0m \u001b[0mweights\u001b[0m\u001b[0;34m=\u001b[0m\u001b[0mweights\u001b[0m\u001b[0;34m)\u001b[0m\u001b[0;34m\u001b[0m\u001b[0;34m\u001b[0m\u001b[0m\n\u001b[0m\u001b[1;32m   1041\u001b[0m \u001b[0;34m\u001b[0m\u001b[0m\n\u001b[1;32m   1042\u001b[0m         \u001b[0mself\u001b[0m\u001b[0;34m.\u001b[0m\u001b[0m_entity_effects\u001b[0m \u001b[0;34m=\u001b[0m \u001b[0mentity_effects\u001b[0m\u001b[0;34m\u001b[0m\u001b[0;34m\u001b[0m\u001b[0m\n",
      "\u001b[0;32m~/Software/anaconda3/lib/python3.8/site-packages/linearmodels/panel/model.py\u001b[0m in \u001b[0;36m__init__\u001b[0;34m(self, dependent, exog, weights)\u001b[0m\n\u001b[1;32m    224\u001b[0m         \u001b[0mweights\u001b[0m\u001b[0;34m:\u001b[0m \u001b[0mOptional\u001b[0m\u001b[0;34m[\u001b[0m\u001b[0mPanelDataLike\u001b[0m\u001b[0;34m]\u001b[0m \u001b[0;34m=\u001b[0m \u001b[0;32mNone\u001b[0m\u001b[0;34m,\u001b[0m\u001b[0;34m\u001b[0m\u001b[0;34m\u001b[0m\u001b[0m\n\u001b[1;32m    225\u001b[0m     ) -> None:\n\u001b[0;32m--> 226\u001b[0;31m         \u001b[0mself\u001b[0m\u001b[0;34m.\u001b[0m\u001b[0mdependent\u001b[0m \u001b[0;34m=\u001b[0m \u001b[0mPanelData\u001b[0m\u001b[0;34m(\u001b[0m\u001b[0mdependent\u001b[0m\u001b[0;34m,\u001b[0m \u001b[0;34m\"Dep\"\u001b[0m\u001b[0;34m)\u001b[0m\u001b[0;34m\u001b[0m\u001b[0;34m\u001b[0m\u001b[0m\n\u001b[0m\u001b[1;32m    227\u001b[0m         \u001b[0mself\u001b[0m\u001b[0;34m.\u001b[0m\u001b[0mexog\u001b[0m \u001b[0;34m=\u001b[0m \u001b[0mPanelData\u001b[0m\u001b[0;34m(\u001b[0m\u001b[0mexog\u001b[0m\u001b[0;34m,\u001b[0m \u001b[0;34m\"Exog\"\u001b[0m\u001b[0;34m)\u001b[0m\u001b[0;34m\u001b[0m\u001b[0;34m\u001b[0m\u001b[0m\n\u001b[1;32m    228\u001b[0m         \u001b[0mself\u001b[0m\u001b[0;34m.\u001b[0m\u001b[0m_original_shape\u001b[0m \u001b[0;34m=\u001b[0m \u001b[0mself\u001b[0m\u001b[0;34m.\u001b[0m\u001b[0mdependent\u001b[0m\u001b[0;34m.\u001b[0m\u001b[0mshape\u001b[0m\u001b[0;34m\u001b[0m\u001b[0;34m\u001b[0m\u001b[0m\n",
      "\u001b[0;32m~/Software/anaconda3/lib/python3.8/site-packages/linearmodels/panel/data.py\u001b[0m in \u001b[0;36m__init__\u001b[0;34m(self, x, var_name, convert_dummies, drop_first, copy)\u001b[0m\n\u001b[1;32m    192\u001b[0m             \u001b[0mx\u001b[0m \u001b[0;34m=\u001b[0m \u001b[0mDataFrame\u001b[0m\u001b[0;34m(\u001b[0m\u001b[0mx\u001b[0m\u001b[0;34m)\u001b[0m\u001b[0;34m\u001b[0m\u001b[0;34m\u001b[0m\u001b[0m\n\u001b[1;32m    193\u001b[0m         \u001b[0;32melif\u001b[0m \u001b[0misinstance\u001b[0m\u001b[0;34m(\u001b[0m\u001b[0mx\u001b[0m\u001b[0;34m,\u001b[0m \u001b[0mSeries\u001b[0m\u001b[0;34m)\u001b[0m\u001b[0;34m:\u001b[0m\u001b[0;34m\u001b[0m\u001b[0;34m\u001b[0m\u001b[0m\n\u001b[0;32m--> 194\u001b[0;31m             \u001b[0;32mraise\u001b[0m \u001b[0mValueError\u001b[0m\u001b[0;34m(\u001b[0m\u001b[0;34m\"Series can only be used with a 2-level MultiIndex\"\u001b[0m\u001b[0;34m)\u001b[0m\u001b[0;34m\u001b[0m\u001b[0;34m\u001b[0m\u001b[0m\n\u001b[0m\u001b[1;32m    195\u001b[0m \u001b[0;34m\u001b[0m\u001b[0m\n\u001b[1;32m    196\u001b[0m         \u001b[0;32mif\u001b[0m \u001b[0misinstance\u001b[0m\u001b[0;34m(\u001b[0m\u001b[0mx\u001b[0m\u001b[0;34m,\u001b[0m \u001b[0mDataFrame\u001b[0m\u001b[0;34m)\u001b[0m\u001b[0;34m:\u001b[0m\u001b[0;34m\u001b[0m\u001b[0;34m\u001b[0m\u001b[0m\n",
      "\u001b[0;31mValueError\u001b[0m: Series can only be used with a 2-level MultiIndex"
     ]
    }
   ],
   "source": [
    "import pandas as pd\n",
    "from linearmodels.panel import PanelOLS\n",
    "\n",
    "df.loc[df['date-time']<=pd.datetime(2014,11,17), 'perioddum'] = 0\n",
    "df.loc[df['date-time']>pd.datetime(2014,11,17), 'perioddum'] = 1\n",
    "df['did_dum'] = df['perioddum']*df['treatdum']\n",
    "\n",
    "## set index if you need to identify entity_effects/time_effects\n",
    "df = df.set_index(['date-time'])\n",
    "\n",
    "## Now run the DID estimation\n",
    "x_variables = ['perioddum', 'treatdum', 'did_dum']\n",
    "y_variable = 'trade_volume'\n",
    "\n",
    "regression=PanelOLS(df[y_variable], df[x_variables], entity_effects=True, drop_absorbed=True)\n",
    "regression.fit()"
   ]
  },
  {
   "cell_type": "code",
   "execution_count": null,
   "metadata": {},
   "outputs": [],
   "source": []
  }
 ],
 "metadata": {
  "kernelspec": {
   "display_name": "Python 3",
   "language": "python",
   "name": "python3"
  },
  "language_info": {
   "codemirror_mode": {
    "name": "ipython",
    "version": 3
   },
   "file_extension": ".py",
   "mimetype": "text/x-python",
   "name": "python",
   "nbconvert_exporter": "python",
   "pygments_lexer": "ipython3",
   "version": "3.8.3"
  }
 },
 "nbformat": 4,
 "nbformat_minor": 4
}
