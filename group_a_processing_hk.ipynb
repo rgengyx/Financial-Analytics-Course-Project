{
 "cells": [
  {
   "cell_type": "code",
   "execution_count": 99,
   "metadata": {},
   "outputs": [],
   "source": [
    "data = !ls data/group_a/HKG*.csv"
   ]
  },
  {
   "cell_type": "code",
   "execution_count": 100,
   "metadata": {},
   "outputs": [
    {
     "data": {
      "text/plain": [
       "['data/group_a/HKG201409.csv',\n",
       " 'data/group_a/HKG201410.csv',\n",
       " 'data/group_a/HKG201411.csv',\n",
       " 'data/group_a/HKG201412.csv',\n",
       " 'data/group_a/HKG201501.csv']"
      ]
     },
     "execution_count": 100,
     "metadata": {},
     "output_type": "execute_result"
    }
   ],
   "source": [
    "data"
   ]
  },
  {
   "cell_type": "markdown",
   "metadata": {},
   "source": [
    "# Treatment vs Control"
   ]
  },
  {
   "cell_type": "code",
   "execution_count": 101,
   "metadata": {},
   "outputs": [],
   "source": [
    "import pandas as pd"
   ]
  },
  {
   "cell_type": "code",
   "execution_count": 102,
   "metadata": {},
   "outputs": [],
   "source": [
    "# Treatment vs Control\n",
    "treatment = pd.read_excel(\"treatment/treatment_groupHK.xlsx\")"
   ]
  },
  {
   "cell_type": "code",
   "execution_count": 103,
   "metadata": {},
   "outputs": [],
   "source": [
    "treatment_code = treatment['证券代码'].tolist()"
   ]
  },
  {
   "cell_type": "markdown",
   "metadata": {},
   "source": [
    "# Processing"
   ]
  },
  {
   "cell_type": "code",
   "execution_count": 104,
   "metadata": {},
   "outputs": [],
   "source": [
    "df = pd.DataFrame(columns=pd.read_csv(data[0], nrows=1).columns.tolist())"
   ]
  },
  {
   "cell_type": "code",
   "execution_count": 105,
   "metadata": {},
   "outputs": [],
   "source": [
    "df = pd.read_csv(data[0])"
   ]
  },
  {
   "cell_type": "code",
   "execution_count": 106,
   "metadata": {},
   "outputs": [],
   "source": [
    "for i in range(len(data)):\n",
    "    df_next = pd.read_csv(data[i])\n",
    "    df_next = df_next.dropna()\n",
    "    df_next = df_next[(df_next != 0).all(1)]\n",
    "    df = df.append(df_next, ignore_index=True)"
   ]
  },
  {
   "cell_type": "code",
   "execution_count": 107,
   "metadata": {},
   "outputs": [],
   "source": [
    "df = df.dropna()"
   ]
  },
  {
   "cell_type": "raw",
   "metadata": {},
   "source": [
    "# Shanghai only\n",
    "df = df[df['stock'].str.contains(\"SS\")]\n",
    "df = df[~df['stock'].str.contains(\"A\")]\n",
    "df = df[~df['stock'].str.contains(\"z\")]"
   ]
  },
  {
   "cell_type": "code",
   "execution_count": 108,
   "metadata": {
    "scrolled": false
   },
   "outputs": [],
   "source": [
    "df['treatdum'] = df['stock'].apply(lambda x: 1 if int(x[:-3]) in treatment_code else 0)"
   ]
  },
  {
   "cell_type": "code",
   "execution_count": 109,
   "metadata": {},
   "outputs": [],
   "source": [
    "df['date'] = pd.to_datetime(df['date'])"
   ]
  },
  {
   "cell_type": "code",
   "execution_count": 110,
   "metadata": {},
   "outputs": [
    {
     "name": "stderr",
     "output_type": "stream",
     "text": [
      "<ipython-input-110-0f47a2e734f0>:1: FutureWarning: The pandas.datetime class is deprecated and will be removed from pandas in a future version. Import from datetime module instead.\n",
      "  df.loc[df['date']<=pd.datetime(2014,11,17), 'perioddum'] = 0\n",
      "<ipython-input-110-0f47a2e734f0>:2: FutureWarning: The pandas.datetime class is deprecated and will be removed from pandas in a future version. Import from datetime module instead.\n",
      "  df.loc[df['date']>pd.datetime(2014,11,17), 'perioddum'] = 1\n"
     ]
    }
   ],
   "source": [
    "df.loc[df['date']<=pd.datetime(2014,11,17), 'perioddum'] = 0\n",
    "df.loc[df['date']>pd.datetime(2014,11,17), 'perioddum'] = 1\n",
    "df['did_dum'] = df['perioddum']*df['treatdum']"
   ]
  },
  {
   "cell_type": "markdown",
   "metadata": {},
   "source": [
    "# Processing"
   ]
  },
  {
   "cell_type": "code",
   "execution_count": 111,
   "metadata": {},
   "outputs": [],
   "source": [
    "df_treatment = df[df['treatdum'] == 1]\n",
    "df_control = df[df['treatdum'] == 0]"
   ]
  },
  {
   "cell_type": "code",
   "execution_count": 112,
   "metadata": {},
   "outputs": [],
   "source": [
    "df_control = df_control[df_control[\"quote2trade\"] <= 10]"
   ]
  },
  {
   "cell_type": "code",
   "execution_count": 113,
   "metadata": {
    "scrolled": true
   },
   "outputs": [],
   "source": [
    "df_treatment_mean = df_treatment.groupby(\"date\").mean().reset_index()\n",
    "df_control_mean = df_control.groupby(\"date\").mean().reset_index()"
   ]
  },
  {
   "cell_type": "markdown",
   "metadata": {},
   "source": [
    "# Visualization"
   ]
  },
  {
   "cell_type": "code",
   "execution_count": 117,
   "metadata": {},
   "outputs": [
    {
     "data": {
      "text/html": [
       "<iframe style=\"border:0;outline:none;overflow:hidden\" srcdoc=\"&lt;!DOCTYPE html&gt; &lt;html lang=&quot;en&quot;&gt; &lt;head&gt; &lt;meta charset=&quot;utf-8&quot; /&gt; &lt;link href=&quot;https://www.highcharts.com/highslide/highslide.css&quot; rel=&quot;stylesheet&quot; /&gt; &lt;script type=&quot;text/javascript&quot; src=&quot;https://ajax.googleapis.com/ajax/libs/jquery/1.9.1/jquery.min.js&quot;&gt;&lt;/script&gt; &lt;script type=&quot;text/javascript&quot; src=&quot;https://code.highcharts.com/stock/6/highstock.js&quot;&gt;&lt;/script&gt; &lt;script type=&quot;text/javascript&quot; src=&quot;https://code.highcharts.com/stock/6/modules/exporting.js&quot;&gt;&lt;/script&gt; &lt;script type=&quot;text/javascript&quot; src=&quot;https://code.highcharts.com/6/highcharts-more.js&quot;&gt;&lt;/script&gt; &lt;/head&gt; &lt;body style=&quot;margin:0;padding:0&quot;&gt; &lt;div id=&quot;container&quot; style=&quot;&quot;&gt;Loading....&lt;/div&gt; &lt;script&gt; $(function(){ Highcharts.setOptions({&quot;global&quot;: {}, &quot;lang&quot;: {}}); var option = {&quot;chart&quot;: {&quot;renderTo&quot;: &quot;container&quot;, &quot;zoomType&quot;: &quot;x&quot;}, &quot;colors&quot;: {}, &quot;credits&quot;: {&quot;enabled&quot;: false}, &quot;exporting&quot;: {}, &quot;labels&quot;: {}, &quot;legend&quot;: {&quot;enabled&quot;: true, &quot;itemStyle&quot;: {&quot;fontWeight&quot;: &quot;normal&quot;}}, &quot;loading&quot;: {}, &quot;navigation&quot;: {}, &quot;navigator&quot;: {&quot;enabled&quot;: false}, &quot;plotOptions&quot;: {}, &quot;rangeSelector&quot;: {&quot;enabled&quot;: false}, &quot;scrollbar&quot;: {}, &quot;series&quot;: {}, &quot;subtitle&quot;: {}, &quot;title&quot;: {&quot;text&quot;: &quot;HKG Treatment vs Control: Trade Value&quot;}, &quot;tooltip&quot;: {}, &quot;xAxis&quot;: {&quot;plotLines&quot;: [{&quot;color&quot;: &quot;#c8c8c8&quot;, &quot;width&quot;: 1, &quot;value&quot;: 1416182400000.0, &quot;zIndex&quot;: 1, &quot;label&quot;: {&quot;text&quot;: &quot;Stock Connect&quot;, &quot;style&quot;: {&quot;color&quot;: &quot;grey&quot;}, &quot;rotation&quot;: 90, &quot;align&quot;: &quot;center&quot;, &quot;x&quot;: 3, &quot;y&quot;: 50}}]}, &quot;yAxis&quot;: [{&quot;opposite&quot;: false, &quot;title&quot;: {&quot;text&quot;: &quot;Trade Value&quot;}, &quot;tickAmount&quot;: 8}]}; var chart = new Highcharts.StockChart(option); var data = [{&quot;data&quot;: [[Date.UTC(2014,8,1,0,0,0,0.0), 119417772.2369549], [Date.UTC(2014,8,2,0,0,0,0.0), 142528214.40780446], [Date.UTC(2014,8,3,0,0,0,0.0), 215476794.22061974], [Date.UTC(2014,8,4,0,0,0,0.0), 176798567.8510194], [Date.UTC(2014,8,5,0,0,0,0.0), 172024574.11333326], [Date.UTC(2014,8,8,0,0,0,0.0), 111902205.37206064], [Date.UTC(2014,8,10,0,0,0,0.0), 158524170.23737866], [Date.UTC(2014,8,11,0,0,0,0.0), 127510884.25214827], [Date.UTC(2014,8,12,0,0,0,0.0), 111374525.01090911], [Date.UTC(2014,8,15,0,0,0,0.0), 120099433.47034355], [Date.UTC(2014,8,16,0,0,0,0.0), 120161472.9060986], [Date.UTC(2014,8,17,0,0,0,0.0), 157971387.06970066], [Date.UTC(2014,8,18,0,0,0,0.0), 130733174.91628785], [Date.UTC(2014,8,19,0,0,0,0.0), 203752139.34030303], [Date.UTC(2014,8,22,0,0,0,0.0), 133427865.52963361], [Date.UTC(2014,8,23,0,0,0,0.0), 132415179.2921674], [Date.UTC(2014,8,24,0,0,0,0.0), 131281621.99467182], [Date.UTC(2014,8,25,0,0,0,0.0), 137007696.2715436], [Date.UTC(2014,8,26,0,0,0,0.0), 124680104.93634216], [Date.UTC(2014,8,29,0,0,0,0.0), 196242982.8720453], [Date.UTC(2014,8,30,0,0,0,0.0), 190524694.90907583], [Date.UTC(2014,9,3,0,0,0,0.0), 226313629.7218327], [Date.UTC(2014,9,6,0,0,0,0.0), 154291843.17296576], [Date.UTC(2014,9,7,0,0,0,0.0), 141684722.30284032], [Date.UTC(2014,9,8,0,0,0,0.0), 113440634.40603809], [Date.UTC(2014,9,9,0,0,0,0.0), 122990404.72121675], [Date.UTC(2014,9,10,0,0,0,0.0), 138228443.37435114], [Date.UTC(2014,9,13,0,0,0,0.0), 134119833.06166422], [Date.UTC(2014,9,14,0,0,0,0.0), 127292649.02265659], [Date.UTC(2014,9,15,0,0,0,0.0), 124156700.62309428], [Date.UTC(2014,9,16,0,0,0,0.0), 135735207.75092828], [Date.UTC(2014,9,17,0,0,0,0.0), 164807602.60618863], [Date.UTC(2014,9,20,0,0,0,0.0), 101709854.1141428], [Date.UTC(2014,9,21,0,0,0,0.0), 91580763.64557895], [Date.UTC(2014,9,22,0,0,0,0.0), 128071524.94067672], [Date.UTC(2014,9,23,0,0,0,0.0), 93845003.85086797], [Date.UTC(2014,9,24,0,0,0,0.0), 92392776.1118045], [Date.UTC(2014,9,27,0,0,0,0.0), 98522104.26824333], [Date.UTC(2014,9,28,0,0,0,0.0), 134787279.90772626], [Date.UTC(2014,9,29,0,0,0,0.0), 171363682.3320039], [Date.UTC(2014,9,30,0,0,0,0.0), 131046698.66243128], [Date.UTC(2014,9,31,0,0,0,0.0), 171818197.66330796], [Date.UTC(2014,10,3,0,0,0,0.0), 118800462.22337118], [Date.UTC(2014,10,4,0,0,0,0.0), 140512285.79088217], [Date.UTC(2014,10,5,0,0,0,0.0), 127982385.39433466], [Date.UTC(2014,10,6,0,0,0,0.0), 100737774.41328895], [Date.UTC(2014,10,7,0,0,0,0.0), 145273548.80496967], [Date.UTC(2014,10,10,0,0,0,0.0), 203632139.00799245], [Date.UTC(2014,10,11,0,0,0,0.0), 188841783.780303], [Date.UTC(2014,10,12,0,0,0,0.0), 156072052.18062884], [Date.UTC(2014,10,13,0,0,0,0.0), 186270875.80112496], [Date.UTC(2014,10,14,0,0,0,0.0), 155348677.71637124], [Date.UTC(2014,10,17,0,0,0,0.0), 166466300.3605607], [Date.UTC(2014,10,18,0,0,0,0.0), 150275056.57904184], [Date.UTC(2014,10,19,0,0,0,0.0), 130842564.28376427], [Date.UTC(2014,10,20,0,0,0,0.0), 125030907.82051705], [Date.UTC(2014,10,21,0,0,0,0.0), 155102599.9096958], [Date.UTC(2014,10,24,0,0,0,0.0), 253891862.63409925], [Date.UTC(2014,10,25,0,0,0,0.0), 198679287.10926893], [Date.UTC(2014,10,26,0,0,0,0.0), 191324840.75937507], [Date.UTC(2014,10,27,0,0,0,0.0), 156488142.5662357], [Date.UTC(2014,10,28,0,0,0,0.0), 200201011.82678035], [Date.UTC(2014,11,1,0,0,0,0.0), 237768467.8145833], [Date.UTC(2014,11,2,0,0,0,0.0), 217233422.00378793], [Date.UTC(2014,11,3,0,0,0,0.0), 258907790.76190096], [Date.UTC(2014,11,4,0,0,0,0.0), 258728505.55356878], [Date.UTC(2014,11,5,0,0,0,0.0), 327082871.3003612], [Date.UTC(2014,11,8,0,0,0,0.0), 275589422.5332777], [Date.UTC(2014,11,9,0,0,0,0.0), 303891727.39737403], [Date.UTC(2014,11,10,0,0,0,0.0), 199400933.77218398], [Date.UTC(2014,11,11,0,0,0,0.0), 192068714.62104967], [Date.UTC(2014,11,12,0,0,0,0.0), 149477669.1952556], [Date.UTC(2014,11,15,0,0,0,0.0), 139905960.31182444], [Date.UTC(2014,11,16,0,0,0,0.0), 192037681.81333718], [Date.UTC(2014,11,17,0,0,0,0.0), 222711427.82736644], [Date.UTC(2014,11,18,0,0,0,0.0), 196859076.06472197], [Date.UTC(2014,11,19,0,0,0,0.0), 201549596.69532815], [Date.UTC(2014,11,22,0,0,0,0.0), 216252386.3582625], [Date.UTC(2014,11,23,0,0,0,0.0), 147018505.47889575], [Date.UTC(2014,11,24,0,0,0,0.0), 68528142.93337694], [Date.UTC(2014,11,29,0,0,0,0.0), 175466636.96268332], [Date.UTC(2014,11,30,0,0,0,0.0), 148985519.25053635], [Date.UTC(2014,11,31,0,0,0,0.0), 94674031.4623396], [Date.UTC(2015,0,2,0,0,0,0.0), 170223923.00379238], [Date.UTC(2015,0,5,0,0,0,0.0), 235905391.33924532], [Date.UTC(2015,0,6,0,0,0,0.0), 233302850.2409886], [Date.UTC(2015,0,7,0,0,0,0.0), 212418245.67586848], [Date.UTC(2015,0,8,0,0,0,0.0), 186134798.27321804], [Date.UTC(2015,0,9,0,0,0,0.0), 229937306.92289472], [Date.UTC(2015,0,12,0,0,0,0.0), 173273714.07920757], [Date.UTC(2015,0,13,0,0,0,0.0), 163614475.19296992], [Date.UTC(2015,0,14,0,0,0,0.0), 159703267.07327065], [Date.UTC(2015,0,15,0,0,0,0.0), 172391045.30957505], [Date.UTC(2015,0,16,0,0,0,0.0), 190395054.43402258], [Date.UTC(2015,0,19,0,0,0,0.0), 246522110.59917283], [Date.UTC(2015,0,20,0,0,0,0.0), 156664289.28971806], [Date.UTC(2015,0,21,0,0,0,0.0), 193736318.56586456], [Date.UTC(2015,0,22,0,0,0,0.0), 185311191.990644], [Date.UTC(2015,0,23,0,0,0,0.0), 226399882.00238645], [Date.UTC(2015,0,26,0,0,0,0.0), 154870435.60390523], [Date.UTC(2015,0,27,0,0,0,0.0), 173649739.53498864], [Date.UTC(2015,0,28,0,0,0,0.0), 143590409.91553408], [Date.UTC(2015,0,29,0,0,0,0.0), 172136751.5935773], [Date.UTC(2015,0,30,0,0,0,0.0), 162615451.37518176]], &quot;type&quot;: &quot;line&quot;, &quot;yAxis&quot;: 0, &quot;name&quot;: &quot;treatment&quot;}, {&quot;data&quot;: [[Date.UTC(2014,8,1,0,0,0,0.0), 10094287.071651123], [Date.UTC(2014,8,2,0,0,0,0.0), 11851071.551199086], [Date.UTC(2014,8,3,0,0,0,0.0), 14866586.61750432], [Date.UTC(2014,8,4,0,0,0,0.0), 14187477.379820969], [Date.UTC(2014,8,5,0,0,0,0.0), 12429061.087265247], [Date.UTC(2014,8,8,0,0,0,0.0), 8518256.60925085], [Date.UTC(2014,8,10,0,0,0,0.0), 13040928.000657206], [Date.UTC(2014,8,11,0,0,0,0.0), 13658798.840859395], [Date.UTC(2014,8,12,0,0,0,0.0), 11870530.662642775], [Date.UTC(2014,8,15,0,0,0,0.0), 12528734.705285814], [Date.UTC(2014,8,16,0,0,0,0.0), 10727978.875208452], [Date.UTC(2014,8,17,0,0,0,0.0), 12817846.416738395], [Date.UTC(2014,8,18,0,0,0,0.0), 12837827.964615734], [Date.UTC(2014,8,19,0,0,0,0.0), 17445901.14215112], [Date.UTC(2014,8,22,0,0,0,0.0), 13088919.01306663], [Date.UTC(2014,8,23,0,0,0,0.0), 14361377.034094632], [Date.UTC(2014,8,24,0,0,0,0.0), 16131845.834584394], [Date.UTC(2014,8,25,0,0,0,0.0), 19649379.053971432], [Date.UTC(2014,8,26,0,0,0,0.0), 13399558.523805149], [Date.UTC(2014,8,29,0,0,0,0.0), 15551516.500531532], [Date.UTC(2014,8,30,0,0,0,0.0), 13940636.557781573], [Date.UTC(2014,9,3,0,0,0,0.0), 12923768.604041696], [Date.UTC(2014,9,6,0,0,0,0.0), 12687336.47752923], [Date.UTC(2014,9,7,0,0,0,0.0), 11725944.031578345], [Date.UTC(2014,9,8,0,0,0,0.0), 13225764.512038227], [Date.UTC(2014,9,9,0,0,0,0.0), 10949745.714969127], [Date.UTC(2014,9,10,0,0,0,0.0), 10948927.154669734], [Date.UTC(2014,9,13,0,0,0,0.0), 11769195.243384974], [Date.UTC(2014,9,14,0,0,0,0.0), 10068573.188915832], [Date.UTC(2014,9,15,0,0,0,0.0), 10862021.068193475], [Date.UTC(2014,9,16,0,0,0,0.0), 12060570.07477975], [Date.UTC(2014,9,17,0,0,0,0.0), 11064366.646956457], [Date.UTC(2014,9,20,0,0,0,0.0), 7905491.08261171], [Date.UTC(2014,9,21,0,0,0,0.0), 10012142.00038727], [Date.UTC(2014,9,22,0,0,0,0.0), 9603488.840481568], [Date.UTC(2014,9,23,0,0,0,0.0), 8290370.598599233], [Date.UTC(2014,9,24,0,0,0,0.0), 8763664.190027826], [Date.UTC(2014,9,27,0,0,0,0.0), 10910086.859734314], [Date.UTC(2014,9,28,0,0,0,0.0), 11530653.936234169], [Date.UTC(2014,9,29,0,0,0,0.0), 11856084.754910324], [Date.UTC(2014,9,30,0,0,0,0.0), 11137359.627424616], [Date.UTC(2014,9,31,0,0,0,0.0), 14141797.629206141], [Date.UTC(2014,10,3,0,0,0,0.0), 11141076.2895625], [Date.UTC(2014,10,4,0,0,0,0.0), 11322131.776942702], [Date.UTC(2014,10,5,0,0,0,0.0), 10819868.197363714], [Date.UTC(2014,10,6,0,0,0,0.0), 10547934.264420807], [Date.UTC(2014,10,7,0,0,0,0.0), 12411167.222449584], [Date.UTC(2014,10,10,0,0,0,0.0), 14432353.052339785], [Date.UTC(2014,10,11,0,0,0,0.0), 15076729.835836198], [Date.UTC(2014,10,12,0,0,0,0.0), 12695535.115009613], [Date.UTC(2014,10,13,0,0,0,0.0), 13047894.355229279], [Date.UTC(2014,10,14,0,0,0,0.0), 11773234.799284648], [Date.UTC(2014,10,17,0,0,0,0.0), 14822813.856745366], [Date.UTC(2014,10,18,0,0,0,0.0), 13234217.317387553], [Date.UTC(2014,10,19,0,0,0,0.0), 10238104.602384392], [Date.UTC(2014,10,20,0,0,0,0.0), 10088506.231882658], [Date.UTC(2014,10,21,0,0,0,0.0), 11830446.756609116], [Date.UTC(2014,10,24,0,0,0,0.0), 15918483.993270207], [Date.UTC(2014,10,25,0,0,0,0.0), 15210522.804793078], [Date.UTC(2014,10,26,0,0,0,0.0), 14719291.696012665], [Date.UTC(2014,10,27,0,0,0,0.0), 12473903.272563327], [Date.UTC(2014,10,28,0,0,0,0.0), 16438027.78671152], [Date.UTC(2014,11,1,0,0,0,0.0), 18399535.36660678], [Date.UTC(2014,11,2,0,0,0,0.0), 21135529.011166424], [Date.UTC(2014,11,3,0,0,0,0.0), 26103496.08300368], [Date.UTC(2014,11,4,0,0,0,0.0), 22435086.296821326], [Date.UTC(2014,11,5,0,0,0,0.0), 32344328.735610414], [Date.UTC(2014,11,8,0,0,0,0.0), 23692395.920924354], [Date.UTC(2014,11,9,0,0,0,0.0), 30696797.737878077], [Date.UTC(2014,11,10,0,0,0,0.0), 26851507.628948197], [Date.UTC(2014,11,11,0,0,0,0.0), 20714209.049881067], [Date.UTC(2014,11,12,0,0,0,0.0), 15157761.754005294], [Date.UTC(2014,11,15,0,0,0,0.0), 11079836.777829753], [Date.UTC(2014,11,16,0,0,0,0.0), 15092846.012296826], [Date.UTC(2014,11,17,0,0,0,0.0), 19258353.882417854], [Date.UTC(2014,11,18,0,0,0,0.0), 19419667.338863645], [Date.UTC(2014,11,19,0,0,0,0.0), 18409221.576276198], [Date.UTC(2014,11,22,0,0,0,0.0), 17850097.992168188], [Date.UTC(2014,11,23,0,0,0,0.0), 17146110.236333076], [Date.UTC(2014,11,24,0,0,0,0.0), 9913112.579083337], [Date.UTC(2014,11,29,0,0,0,0.0), 16505225.6753131], [Date.UTC(2014,11,30,0,0,0,0.0), 13300211.219468651], [Date.UTC(2014,11,31,0,0,0,0.0), 8760714.990818614], [Date.UTC(2015,0,2,0,0,0,0.0), 12343903.231799848], [Date.UTC(2015,0,5,0,0,0,0.0), 19863615.485622004], [Date.UTC(2015,0,6,0,0,0,0.0), 18605386.744740743], [Date.UTC(2015,0,7,0,0,0,0.0), 14955523.001798052], [Date.UTC(2015,0,8,0,0,0,0.0), 16795828.10096523], [Date.UTC(2015,0,9,0,0,0,0.0), 21510619.545091793], [Date.UTC(2015,0,12,0,0,0,0.0), 14316785.698707175], [Date.UTC(2015,0,13,0,0,0,0.0), 12320446.894166667], [Date.UTC(2015,0,14,0,0,0,0.0), 13037227.908338172], [Date.UTC(2015,0,15,0,0,0,0.0), 15168689.933183769], [Date.UTC(2015,0,16,0,0,0,0.0), 12815542.525979726], [Date.UTC(2015,0,19,0,0,0,0.0), 23711972.253079645], [Date.UTC(2015,0,20,0,0,0,0.0), 15234148.37023458], [Date.UTC(2015,0,21,0,0,0,0.0), 16380219.340092476], [Date.UTC(2015,0,22,0,0,0,0.0), 14445907.531715805], [Date.UTC(2015,0,23,0,0,0,0.0), 13886281.864241824], [Date.UTC(2015,0,26,0,0,0,0.0), 11846548.67596568], [Date.UTC(2015,0,27,0,0,0,0.0), 13927013.402133584], [Date.UTC(2015,0,28,0,0,0,0.0), 12942625.46494639], [Date.UTC(2015,0,29,0,0,0,0.0), 13453793.564298356], [Date.UTC(2015,0,30,0,0,0,0.0), 11779090.851700528]], &quot;type&quot;: &quot;line&quot;, &quot;yAxis&quot;: 0, &quot;name&quot;: &quot;control&quot;}]; var dataLen = data.length; for (var ix = 0; ix &lt; dataLen; ix++) { chart.addSeries(data[ix]); } }); &lt;/script&gt; &lt;/body&gt; &lt;/html&gt;\" height=520 width=820></iframe>"
      ],
      "text/plain": [
       "<highcharts.highstock.highstock.Highstock at 0x7f8ac13e3b50>"
      ]
     },
     "execution_count": 117,
     "metadata": {},
     "output_type": "execute_result"
    }
   ],
   "source": [
    "import pandas as pd\n",
    "from highcharts import Highchart, Highstock\n",
    "import csv\n",
    "import datetime\n",
    "\n",
    "OPTIONS_DEFAULT = {\n",
    "                  'chart': {'zoomType': 'x'},\n",
    "                  'navigator': {'enabled': False},\n",
    "                  'rangeSelector': {'enabled': False},\n",
    "                  'legend': {'enabled': True,\n",
    "                             'itemStyle':{'fontWeight':'normal'}},\n",
    "                  'title': {\"text\":\"HKG Treatment vs Control: Trade Value\"}\n",
    "                    }\n",
    "\n",
    "options_line = OPTIONS_DEFAULT\n",
    "options_line['yAxis'] = [{'opposite': False, 'title':{'text': 'Trade Value'},'tickAmount':8 }]\n",
    "\n",
    "Line_Chart = Highstock()\n",
    "\n",
    "def plotline(date, text):\n",
    "    line = {\n",
    "                'color': '#c8c8c8',\n",
    "                'width': 1,\n",
    "                'value': ((date -  datetime.datetime.utcfromtimestamp(0)).total_seconds() * 1000.0), \n",
    "                'zIndex': 1,\n",
    "                'label': {'text': text,\n",
    "                            'style': {\n",
    "                            'color': 'grey'},\n",
    "                            'rotation': 90,\n",
    "                            'align': 'center',\n",
    "                            'x': 3,\n",
    "                            'y': 50}\n",
    "            }\n",
    "    return line\n",
    "\n",
    "event_dict = {'2014-11-17': 'Stock Connect'}\n",
    "\n",
    "for date in event_dict:\n",
    "    date_object = datetime.datetime.strptime(date, '%Y-%m-%d')\n",
    "    line = plotline(date_object, event_dict[date])\n",
    "    try:\n",
    "        options_line['xAxis']['plotLines'].append(line)\n",
    "    except KeyError:\n",
    "        options_line['xAxis']={'plotLines': [line]}\n",
    "\n",
    "Line_Chart.set_dict_options(options_line)\n",
    "\n",
    "Line_Chart.add_data_set(df_treatment_mean.filter(['date','trade_value']).values.tolist(), name='treatment', yAxis=0)\n",
    "Line_Chart.add_data_set(df_control_mean.filter(['date','trade_value']).values.tolist(), name='control', yAxis=0)\n",
    "\n",
    "Line_Chart"
   ]
  },
  {
   "cell_type": "markdown",
   "metadata": {},
   "source": [
    "# DID"
   ]
  },
  {
   "cell_type": "code",
   "execution_count": 59,
   "metadata": {},
   "outputs": [
    {
     "name": "stderr",
     "output_type": "stream",
     "text": [
      "<ipython-input-59-3051c18f260a>:4: FutureWarning: The pandas.datetime class is deprecated and will be removed from pandas in a future version. Import from datetime module instead.\n",
      "  df.loc[df['date-time']<=pd.datetime(2014,11,17), 'perioddum'] = 0\n",
      "<ipython-input-59-3051c18f260a>:5: FutureWarning: The pandas.datetime class is deprecated and will be removed from pandas in a future version. Import from datetime module instead.\n",
      "  df.loc[df['date-time']>pd.datetime(2014,11,17), 'perioddum'] = 1\n"
     ]
    },
    {
     "ename": "ValueError",
     "evalue": "Series can only be used with a 2-level MultiIndex",
     "output_type": "error",
     "traceback": [
      "\u001b[0;31m---------------------------------------------------------------------------\u001b[0m",
      "\u001b[0;31mValueError\u001b[0m                                Traceback (most recent call last)",
      "\u001b[0;32m<ipython-input-59-3051c18f260a>\u001b[0m in \u001b[0;36m<module>\u001b[0;34m\u001b[0m\n\u001b[1;32m     13\u001b[0m \u001b[0my_variable\u001b[0m \u001b[0;34m=\u001b[0m \u001b[0;34m'trade_volume'\u001b[0m\u001b[0;34m\u001b[0m\u001b[0;34m\u001b[0m\u001b[0m\n\u001b[1;32m     14\u001b[0m \u001b[0;34m\u001b[0m\u001b[0m\n\u001b[0;32m---> 15\u001b[0;31m \u001b[0mregression\u001b[0m\u001b[0;34m=\u001b[0m\u001b[0mPanelOLS\u001b[0m\u001b[0;34m(\u001b[0m\u001b[0mdf\u001b[0m\u001b[0;34m[\u001b[0m\u001b[0my_variable\u001b[0m\u001b[0;34m]\u001b[0m\u001b[0;34m,\u001b[0m \u001b[0mdf\u001b[0m\u001b[0;34m[\u001b[0m\u001b[0mx_variables\u001b[0m\u001b[0;34m]\u001b[0m\u001b[0;34m,\u001b[0m \u001b[0mentity_effects\u001b[0m\u001b[0;34m=\u001b[0m\u001b[0;32mTrue\u001b[0m\u001b[0;34m,\u001b[0m \u001b[0mdrop_absorbed\u001b[0m\u001b[0;34m=\u001b[0m\u001b[0;32mTrue\u001b[0m\u001b[0;34m)\u001b[0m\u001b[0;34m\u001b[0m\u001b[0;34m\u001b[0m\u001b[0m\n\u001b[0m\u001b[1;32m     16\u001b[0m \u001b[0mregression\u001b[0m\u001b[0;34m.\u001b[0m\u001b[0mfit\u001b[0m\u001b[0;34m(\u001b[0m\u001b[0;34m)\u001b[0m\u001b[0;34m\u001b[0m\u001b[0;34m\u001b[0m\u001b[0m\n",
      "\u001b[0;32m~/Software/anaconda3/lib/python3.8/site-packages/linearmodels/panel/model.py\u001b[0m in \u001b[0;36m__init__\u001b[0;34m(self, dependent, exog, weights, entity_effects, time_effects, other_effects, singletons, drop_absorbed)\u001b[0m\n\u001b[1;32m   1038\u001b[0m         \u001b[0mdrop_absorbed\u001b[0m\u001b[0;34m:\u001b[0m \u001b[0mbool\u001b[0m \u001b[0;34m=\u001b[0m \u001b[0;32mFalse\u001b[0m\u001b[0;34m,\u001b[0m\u001b[0;34m\u001b[0m\u001b[0;34m\u001b[0m\u001b[0m\n\u001b[1;32m   1039\u001b[0m     ) -> None:\n\u001b[0;32m-> 1040\u001b[0;31m         \u001b[0msuper\u001b[0m\u001b[0;34m(\u001b[0m\u001b[0mPanelOLS\u001b[0m\u001b[0;34m,\u001b[0m \u001b[0mself\u001b[0m\u001b[0;34m)\u001b[0m\u001b[0;34m.\u001b[0m\u001b[0m__init__\u001b[0m\u001b[0;34m(\u001b[0m\u001b[0mdependent\u001b[0m\u001b[0;34m,\u001b[0m \u001b[0mexog\u001b[0m\u001b[0;34m,\u001b[0m \u001b[0mweights\u001b[0m\u001b[0;34m=\u001b[0m\u001b[0mweights\u001b[0m\u001b[0;34m)\u001b[0m\u001b[0;34m\u001b[0m\u001b[0;34m\u001b[0m\u001b[0m\n\u001b[0m\u001b[1;32m   1041\u001b[0m \u001b[0;34m\u001b[0m\u001b[0m\n\u001b[1;32m   1042\u001b[0m         \u001b[0mself\u001b[0m\u001b[0;34m.\u001b[0m\u001b[0m_entity_effects\u001b[0m \u001b[0;34m=\u001b[0m \u001b[0mentity_effects\u001b[0m\u001b[0;34m\u001b[0m\u001b[0;34m\u001b[0m\u001b[0m\n",
      "\u001b[0;32m~/Software/anaconda3/lib/python3.8/site-packages/linearmodels/panel/model.py\u001b[0m in \u001b[0;36m__init__\u001b[0;34m(self, dependent, exog, weights)\u001b[0m\n\u001b[1;32m    224\u001b[0m         \u001b[0mweights\u001b[0m\u001b[0;34m:\u001b[0m \u001b[0mOptional\u001b[0m\u001b[0;34m[\u001b[0m\u001b[0mPanelDataLike\u001b[0m\u001b[0;34m]\u001b[0m \u001b[0;34m=\u001b[0m \u001b[0;32mNone\u001b[0m\u001b[0;34m,\u001b[0m\u001b[0;34m\u001b[0m\u001b[0;34m\u001b[0m\u001b[0m\n\u001b[1;32m    225\u001b[0m     ) -> None:\n\u001b[0;32m--> 226\u001b[0;31m         \u001b[0mself\u001b[0m\u001b[0;34m.\u001b[0m\u001b[0mdependent\u001b[0m \u001b[0;34m=\u001b[0m \u001b[0mPanelData\u001b[0m\u001b[0;34m(\u001b[0m\u001b[0mdependent\u001b[0m\u001b[0;34m,\u001b[0m \u001b[0;34m\"Dep\"\u001b[0m\u001b[0;34m)\u001b[0m\u001b[0;34m\u001b[0m\u001b[0;34m\u001b[0m\u001b[0m\n\u001b[0m\u001b[1;32m    227\u001b[0m         \u001b[0mself\u001b[0m\u001b[0;34m.\u001b[0m\u001b[0mexog\u001b[0m \u001b[0;34m=\u001b[0m \u001b[0mPanelData\u001b[0m\u001b[0;34m(\u001b[0m\u001b[0mexog\u001b[0m\u001b[0;34m,\u001b[0m \u001b[0;34m\"Exog\"\u001b[0m\u001b[0;34m)\u001b[0m\u001b[0;34m\u001b[0m\u001b[0;34m\u001b[0m\u001b[0m\n\u001b[1;32m    228\u001b[0m         \u001b[0mself\u001b[0m\u001b[0;34m.\u001b[0m\u001b[0m_original_shape\u001b[0m \u001b[0;34m=\u001b[0m \u001b[0mself\u001b[0m\u001b[0;34m.\u001b[0m\u001b[0mdependent\u001b[0m\u001b[0;34m.\u001b[0m\u001b[0mshape\u001b[0m\u001b[0;34m\u001b[0m\u001b[0;34m\u001b[0m\u001b[0m\n",
      "\u001b[0;32m~/Software/anaconda3/lib/python3.8/site-packages/linearmodels/panel/data.py\u001b[0m in \u001b[0;36m__init__\u001b[0;34m(self, x, var_name, convert_dummies, drop_first, copy)\u001b[0m\n\u001b[1;32m    192\u001b[0m             \u001b[0mx\u001b[0m \u001b[0;34m=\u001b[0m \u001b[0mDataFrame\u001b[0m\u001b[0;34m(\u001b[0m\u001b[0mx\u001b[0m\u001b[0;34m)\u001b[0m\u001b[0;34m\u001b[0m\u001b[0;34m\u001b[0m\u001b[0m\n\u001b[1;32m    193\u001b[0m         \u001b[0;32melif\u001b[0m \u001b[0misinstance\u001b[0m\u001b[0;34m(\u001b[0m\u001b[0mx\u001b[0m\u001b[0;34m,\u001b[0m \u001b[0mSeries\u001b[0m\u001b[0;34m)\u001b[0m\u001b[0;34m:\u001b[0m\u001b[0;34m\u001b[0m\u001b[0;34m\u001b[0m\u001b[0m\n\u001b[0;32m--> 194\u001b[0;31m             \u001b[0;32mraise\u001b[0m \u001b[0mValueError\u001b[0m\u001b[0;34m(\u001b[0m\u001b[0;34m\"Series can only be used with a 2-level MultiIndex\"\u001b[0m\u001b[0;34m)\u001b[0m\u001b[0;34m\u001b[0m\u001b[0;34m\u001b[0m\u001b[0m\n\u001b[0m\u001b[1;32m    195\u001b[0m \u001b[0;34m\u001b[0m\u001b[0m\n\u001b[1;32m    196\u001b[0m         \u001b[0;32mif\u001b[0m \u001b[0misinstance\u001b[0m\u001b[0;34m(\u001b[0m\u001b[0mx\u001b[0m\u001b[0;34m,\u001b[0m \u001b[0mDataFrame\u001b[0m\u001b[0;34m)\u001b[0m\u001b[0;34m:\u001b[0m\u001b[0;34m\u001b[0m\u001b[0;34m\u001b[0m\u001b[0m\n",
      "\u001b[0;31mValueError\u001b[0m: Series can only be used with a 2-level MultiIndex"
     ]
    }
   ],
   "source": [
    "import pandas as pd\n",
    "from linearmodels.panel import PanelOLS\n",
    "\n",
    "df.loc[df['date-time']<=pd.datetime(2014,11,17), 'perioddum'] = 0\n",
    "df.loc[df['date-time']>pd.datetime(2014,11,17), 'perioddum'] = 1\n",
    "df['did_dum'] = df['perioddum']*df['treatdum']\n",
    "\n",
    "## set index if you need to identify entity_effects/time_effects\n",
    "df = df.set_index(['date-time'])\n",
    "\n",
    "## Now run the DID estimation\n",
    "x_variables = ['perioddum', 'treatdum', 'did_dum']\n",
    "y_variable = 'trade_volume'\n",
    "\n",
    "regression=PanelOLS(df[y_variable], df[x_variables], entity_effects=True, drop_absorbed=True)\n",
    "regression.fit()"
   ]
  },
  {
   "cell_type": "code",
   "execution_count": null,
   "metadata": {},
   "outputs": [],
   "source": []
  }
 ],
 "metadata": {
  "kernelspec": {
   "display_name": "Python 3",
   "language": "python",
   "name": "python3"
  },
  "language_info": {
   "codemirror_mode": {
    "name": "ipython",
    "version": 3
   },
   "file_extension": ".py",
   "mimetype": "text/x-python",
   "name": "python",
   "nbconvert_exporter": "python",
   "pygments_lexer": "ipython3",
   "version": "3.8.3"
  }
 },
 "nbformat": 4,
 "nbformat_minor": 4
}
